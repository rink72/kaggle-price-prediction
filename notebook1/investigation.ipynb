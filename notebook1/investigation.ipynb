{
 "cells": [
  {
   "cell_type": "markdown",
   "metadata": {},
   "source": [
    "# Investigation\n",
    "\n",
    "This will be my attempt at creating something similar to the original notebook.\n",
    "A few things to think about:\n",
    "\n",
    "- After doing the initial recreation, let's look at the Kaggle tutorials and add in other data points\n",
    "  - Close - n datapoints? So we're not just using the very latest close price\n",
    "  - High/Low/Open - see if these are useful\n",
    "  - Tick volume - see if this is useful\n",
    "- As well as looking at root mean squared error, lets look at statistics\n",
    "  - When model predict a move of more than 1, 2, 3 ATR in next 10, 15 candles, how often does this actually happen?\n",
    "    - When it's correct, how often is there a move in the opposite direction first that was not seen by model\n",
    "  - When it predicts a positive or negative move, how often is it actually correct?\n",
    "    - Look at this over different candle counts. ie. Candle 1, 10, 15\n",
    "\n",
    "Hopefully, we will find models that are better than the original but there's not going to be a model we can use for native price forcasting. But perhaps we can use it to inform other prediction algorithms. ie. If we have an algorithm that identifies support and resistance areas, and the model is good a predicting the direction of the movement then it can be used to inform on where to place a trade even if it can't predict the price.\n",
    "\n",
    "### Note\n",
    "\n",
    "In this notebook I am using a custom module `malfoy.metatrader` that I built on top of the `MetaTrader5` package. This interfaces directly with MetaTrader to pull up-to-date data. I hope to eventually make this open-source but for now it's a private module."
   ]
  },
  {
   "cell_type": "code",
   "execution_count": 8,
   "metadata": {},
   "outputs": [],
   "source": [
    "# Import modules\n",
    "\n",
    "import json\n",
    "\n",
    "from malfoy.metatrader.metatrader import Metatrader"
   ]
  },
  {
   "cell_type": "code",
   "execution_count": 9,
   "metadata": {},
   "outputs": [
    {
     "name": "stderr",
     "output_type": "stream",
     "text": [
      "Could not connect to account <907817>. Reason: <(-10005, 'IPC timeout')>\n"
     ]
    },
    {
     "ename": "Exception",
     "evalue": "Could not connect to account <907817>. Reason: <(-10005, 'IPC timeout')>",
     "output_type": "error",
     "traceback": [
      "\u001b[1;31m---------------------------------------------------------------------------\u001b[0m",
      "\u001b[1;31mException\u001b[0m                                 Traceback (most recent call last)",
      "\u001b[1;32mc:\\git\\kaggle-price-prediction\\notebook1\\investigation.ipynb Cell 3'\u001b[0m in \u001b[0;36m<cell line: 7>\u001b[1;34m()\u001b[0m\n\u001b[0;32m      <a href='vscode-notebook-cell:/c%3A/git/kaggle-price-prediction/notebook1/investigation.ipynb#ch0000003?line=2'>3</a>\u001b[0m jsonFile \u001b[39m=\u001b[39m \u001b[39mopen\u001b[39m(metatraderAuthenticationPath)\n\u001b[0;32m      <a href='vscode-notebook-cell:/c%3A/git/kaggle-price-prediction/notebook1/investigation.ipynb#ch0000003?line=4'>5</a>\u001b[0m metatraderAuthentication \u001b[39m=\u001b[39m json\u001b[39m.\u001b[39mload(jsonFile)\n\u001b[1;32m----> <a href='vscode-notebook-cell:/c%3A/git/kaggle-price-prediction/notebook1/investigation.ipynb#ch0000003?line=6'>7</a>\u001b[0m mtApi \u001b[39m=\u001b[39m Metatrader(\u001b[39m*\u001b[39m\u001b[39m*\u001b[39mmetatraderAuthentication)\n",
      "File \u001b[1;32mC:\\Python310\\lib\\site-packages\\malfoy\\metatrader\\metatrader.py:56\u001b[0m, in \u001b[0;36mMetatrader.__init__\u001b[1;34m(self, accountNumber, accountServer, accountPassword, metatraderPath)\u001b[0m\n\u001b[0;32m     <a href='file:///c%3A/Python310/lib/site-packages/malfoy/metatrader/metatrader.py?line=52'>53</a>\u001b[0m \u001b[39melse\u001b[39;00m:\n\u001b[0;32m     <a href='file:///c%3A/Python310/lib/site-packages/malfoy/metatrader/metatrader.py?line=53'>54</a>\u001b[0m     \u001b[39mself\u001b[39m\u001b[39m.\u001b[39mmetatraderPath \u001b[39m=\u001b[39m \u001b[39mself\u001b[39m\u001b[39m.\u001b[39mconfig\u001b[39m.\u001b[39mGetConfigValue(\u001b[39mtype\u001b[39m\u001b[39m=\u001b[39m\u001b[39m\"\u001b[39m\u001b[39mmetatrader\u001b[39m\u001b[39m\"\u001b[39m, key\u001b[39m=\u001b[39m\u001b[39m\"\u001b[39m\u001b[39mmetatraderPath\u001b[39m\u001b[39m\"\u001b[39m)\n\u001b[1;32m---> <a href='file:///c%3A/Python310/lib/site-packages/malfoy/metatrader/metatrader.py?line=55'>56</a>\u001b[0m \u001b[39mself\u001b[39;49m\u001b[39m.\u001b[39;49mConnect()\n",
      "File \u001b[1;32mC:\\Python310\\lib\\site-packages\\malfoy\\metatrader\\metatrader.py:71\u001b[0m, in \u001b[0;36mMetatrader.Connect\u001b[1;34m(self)\u001b[0m\n\u001b[0;32m     <a href='file:///c%3A/Python310/lib/site-packages/malfoy/metatrader/metatrader.py?line=68'>69</a>\u001b[0m message \u001b[39m=\u001b[39m \u001b[39m\"\u001b[39m\u001b[39mCould not connect to account <\u001b[39m\u001b[39m{0}\u001b[39;00m\u001b[39m>. Reason: <\u001b[39m\u001b[39m{1}\u001b[39;00m\u001b[39m>\u001b[39m\u001b[39m\"\u001b[39m\u001b[39m.\u001b[39mformat(\u001b[39mself\u001b[39m\u001b[39m.\u001b[39maccountNumber, mt5\u001b[39m.\u001b[39mlast_error())\n\u001b[0;32m     <a href='file:///c%3A/Python310/lib/site-packages/malfoy/metatrader/metatrader.py?line=69'>70</a>\u001b[0m \u001b[39mself\u001b[39m\u001b[39m.\u001b[39mlogger\u001b[39m.\u001b[39merror(message)\n\u001b[1;32m---> <a href='file:///c%3A/Python310/lib/site-packages/malfoy/metatrader/metatrader.py?line=70'>71</a>\u001b[0m \u001b[39mraise\u001b[39;00m \u001b[39mException\u001b[39;00m(message)\n",
      "\u001b[1;31mException\u001b[0m: Could not connect to account <907817>. Reason: <(-10005, 'IPC timeout')>"
     ]
    }
   ],
   "source": [
    "# Connect to MetaTrader\n",
    "metatraderAuthenticationPath = \"./metatrader.local.json\"\n",
    "jsonFile = open(metatraderAuthenticationPath)\n",
    "\n",
    "metatraderAuthentication = json.load(jsonFile)\n",
    "\n",
    "mtApi = Metatrader(**metatraderAuthentication)"
   ]
  }
 ],
 "metadata": {
  "interpreter": {
   "hash": "2be5faf79681da6f2a61fdfdd5405d65d042280f7fba6178067603e3a2925119"
  },
  "kernelspec": {
   "display_name": "Python 3.10.1 64-bit",
   "language": "python",
   "name": "python3"
  },
  "language_info": {
   "codemirror_mode": {
    "name": "ipython",
    "version": 3
   },
   "file_extension": ".py",
   "mimetype": "text/x-python",
   "name": "python",
   "nbconvert_exporter": "python",
   "pygments_lexer": "ipython3",
   "version": "3.10.1"
  },
  "orig_nbformat": 4
 },
 "nbformat": 4,
 "nbformat_minor": 2
}
