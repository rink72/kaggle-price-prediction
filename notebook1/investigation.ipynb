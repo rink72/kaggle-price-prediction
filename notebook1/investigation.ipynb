{
 "cells": [
  {
   "cell_type": "markdown",
   "metadata": {},
   "source": [
    "# Investigation\n",
    "\n",
    "This will be my attempt at creating something similar to the original notebook.\n",
    "A few things to think about:\n",
    "\n",
    "- After doing the initial recreation, let's look at the Kaggle tutorials and add in other data points\n",
    "  - Close - n datapoints? So we're not just using the very latest close price\n",
    "  - High/Low/Open - see if these are useful\n",
    "  - Tick volume - see if this is useful\n",
    "- As well as looking at root mean squared error, lets look at statistics\n",
    "  - When model predict a move of more than 1, 2, 3 ATR in next 10, 15 candles, how often does this actually happen?\n",
    "    - When it's correct, how often is there a move in the opposite direction first that was not seen by model\n",
    "  - When it predicts a positive or negative move, how often is it actually correct?\n",
    "    - Look at this over different candle counts. ie. Candle 1, 10, 15\n",
    "\n",
    "Hopefully, we will find models that are better than the original but there's not going to be a model we can use for native price forcasting. But perhaps we can use it to inform other prediction algorithms. ie. If we have an algorithm that identifies support and resistance areas, and the model is good a predicting the direction of the movement then it can be used to inform on where to place a trade even if it can't predict the price.\n",
    "\n",
    "### Note\n",
    "\n",
    "In this notebook I am using a custom module `malfoy.metatrader` that I built on top of the `MetaTrader5` package. This interfaces directly with MetaTrader to pull up-to-date data. I hope to eventually make this open-source but for now it's a private module."
   ]
  }
 ],
 "metadata": {
  "interpreter": {
   "hash": "2be5faf79681da6f2a61fdfdd5405d65d042280f7fba6178067603e3a2925119"
  },
  "kernelspec": {
   "display_name": "Python 3.10.1 64-bit",
   "language": "python",
   "name": "python3"
  },
  "language_info": {
   "name": "python",
   "version": "3.10.1"
  },
  "orig_nbformat": 4
 },
 "nbformat": 4,
 "nbformat_minor": 2
}
